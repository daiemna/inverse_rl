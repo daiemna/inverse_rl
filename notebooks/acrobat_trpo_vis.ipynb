{
 "cells": [
  {
   "cell_type": "code",
   "execution_count": null,
   "metadata": {},
   "outputs": [],
   "source": [
    "from rllab.baselines.linear_feature_baseline import LinearFeatureBaseline\n",
    "from rllab.envs.gym_env import GymEnv\n",
    "from rllab.misc import console as rlc\n",
    "from rllab.misc import logger as rllog\n",
    "from rllab.policies.gaussian_mlp_policy import GaussianMLPPolicy\n",
    "from rllab.algos.trpo import TRPO as RLLab_TRPO\n",
    "from gpirl.utils import plot_experiment_data, plot_experiment_data_min_max, do_experiment_iter_data, do_experiment_iter_start\n",
    "import logging\n",
    "from pylogging import HandlerType, setup_logger\n",
    "from inverse_rl.envs.env_utils import CustomGymEnv\n",
    "import matplotlib.pyplot as plt\n",
    "import numpy as np\n",
    "from IPython.core.display import display, HTML\n",
    "display(HTML(\"<style>.container { width:100% !important; }</style>\"))\n",
    "\n",
    "log = logging.getLogger(__name__)\n",
    "rllog.print = log.debug\n",
    "rlc.print = log.debug\n",
    "\n",
    "setup_logger(\n",
    "    log_directory='./logs',\n",
    "    file_handler_type=HandlerType.ROTATING_FILE_HANDLER,\n",
    "    allow_console_logging=True,\n",
    "    console_log_level=\"INFO\",\n",
    "    change_log_level={\n",
    "         'tensorflow': 'error',\n",
    "         'matplotlib': 'error',\n",
    "         'GP': 'error',\n",
    "         'gpirl': 'info',\n",
    "         'gpirl.utils2': 'info',\n",
    "         'gpirl.gym_env': 'info',\n",
    "         __name__ : 'info',\n",
    "         'gym':'error'\n",
    "    }\n",
    ")"
   ]
  },
  {
   "cell_type": "code",
   "execution_count": null,
   "metadata": {},
   "outputs": [],
   "source": [
    "test_gamma=0.9\n",
    "env = CustomGymEnv('Acrobot-v2', record_video=False, record_log=False)\n",
    "trpo_data = np.load('plots/trpo_iteration_data.npy')\n",
    "lim = 1500"
   ]
  },
  {
   "cell_type": "code",
   "execution_count": null,
   "metadata": {},
   "outputs": [],
   "source": [
    "trpo_data = do_experiment_iter_data('../data/acrobat_data_collect/2018_10_02_18_07_38_0/', env, its=lim, T=1000, gamma=test_gamma, n=5, exp_count=10)"
   ]
  },
  {
   "cell_type": "code",
   "execution_count": null,
   "metadata": {},
   "outputs": [],
   "source": [
    "rllab_trpo_data = do_experiment_iter_data('../data/acrobat_data_rllab_trpo/exp_1/', env, its=lim, T=1000, gamma=test_gamma, n=5, exp_count=10)\n",
    "np.save('plots/acrobot_rllab_trpo_iteration_data.npy', rllab_trpo_data)"
   ]
  },
  {
   "cell_type": "code",
   "execution_count": null,
   "metadata": {},
   "outputs": [],
   "source": [
    "rllab_ppo_data = do_experiment_iter_data('../data/acrobat_data_ppo/exp_1/', env, its=lim, T=1000, gamma=test_gamma, n=5, exp_count=10)\n",
    "np.save('plots/acrobot_ppo_iteration_data.npy', rllab_ppo_data)"
   ]
  },
  {
   "cell_type": "code",
   "execution_count": null,
   "metadata": {},
   "outputs": [],
   "source": [
    "%matplotlib notebook\n",
    "fig = plt.figure()\n",
    "plot_experiment_data_min_max(trpo_data, 'plots/acrobat_trpo_iter_test.png', 'TRPO', 'iterations', 'avgerage discounted return', lim,0,0, fig=fig)\n",
    "plot_experiment_data_min_max(rllab_trpo_data, 'plots/acrobat_trpo _vs_rllab_trpo_iter_test.png', 'rllab-TRPO', 'iterations', 'avgerage discounted return', lim,0,0, fig=fig)\n",
    "plot_experiment_data_min_max(rllab_ppo_data, 'plots/acrobat_trpo_vs_ppo_iter_test.png', 'PPO', 'iterations', 'avgerage discounted return', lim,0,0, fig=fig)"
   ]
  },
  {
   "cell_type": "code",
   "execution_count": null,
   "metadata": {},
   "outputs": [],
   "source": [
    "np.save('plots/acrobot_trpo_iteration_data.npy', trpo_data)"
   ]
  },
  {
   "cell_type": "code",
   "execution_count": null,
   "metadata": {},
   "outputs": [],
   "source": [
    "# trpo_acrobat_reward_data = np.load('plots/acrobat_trpo_mod_reward.npy')\n",
    "trpo_acrobat_reward_data = do_experiment_iter_data('../data/acrobat_data_mode_reward_trpo/exp_1/', env, its=1000, T=1000, gamma=test_gamma, n=5, exp_count=10)\n",
    "# np.save('plots/acrobat_trpo_mod_reward.npy', trpo_acrobat_reward_data)"
   ]
  },
  {
   "cell_type": "code",
   "execution_count": null,
   "metadata": {},
   "outputs": [],
   "source": [
    "%matplotlib notebook\n",
    "fig = plt.figure()\n",
    "# rllab_trpo_data = np.load('plots/acrobot_rllab_trpo_iteration_data.npy')\n",
    "plot_experiment_data_min_max(trpo_acrobat_reward_data, 'plots/trpo_rllab_acrobat_reward.png', 'TRPO', 'iterations', 'avgerage discounted return', 1000,0,0, fig=fig)"
   ]
  },
  {
   "cell_type": "code",
   "execution_count": null,
   "metadata": {},
   "outputs": [],
   "source": [
    "# ppo_acrobat_reward_data = do_experiment_iter_data('../data/acrobat_data_moded_reward_ppo/exp_1/', env, its=1000, T=1000, gamma=test_gamma, n=5, exp_count=10)\n",
    "# np.save('plots/acrobat_ppo_mod_reward.npy', ppo_acrobat_reward_data)\n",
    "ppo_acrobat_reward_data = np.load('plots/acrobat_ppo_mod_reward.npy')"
   ]
  },
  {
   "cell_type": "code",
   "execution_count": null,
   "metadata": {},
   "outputs": [],
   "source": [
    "%matplotlib notebook\n",
    "fig = plt.figure()\n",
    "# rllab_trpo_data = np.load('plots/acrobot_rllab_trpo_iteration_data.npy')\n",
    "plot_experiment_data_min_max(ppo_acrobat_reward_data, 'plots/ppo_rllab_acrobat_reward.png', 'PPO', 'iterations', 'avgerage discounted return', 1000,0,0, fig=fig)\n",
    "plot_experiment_data_min_max(trpo_acrobat_reward_data, 'plots/ppo_vs_trpo_rllab_acrobat_reward.png', 'TRPO', 'iterations', 'avgerage discounted return', 1000,0,0, fig=fig)"
   ]
  },
  {
   "cell_type": "code",
   "execution_count": null,
   "metadata": {},
   "outputs": [],
   "source": []
  }
 ],
 "metadata": {
  "kernelspec": {
   "display_name": "Py36 (GPFlow)",
   "language": "python",
   "name": "anomaly-detection"
  },
  "language_info": {
   "codemirror_mode": {
    "name": "ipython",
    "version": 3
   },
   "file_extension": ".py",
   "mimetype": "text/x-python",
   "name": "python",
   "nbconvert_exporter": "python",
   "pygments_lexer": "ipython3",
   "version": "3.5.2"
  }
 },
 "nbformat": 4,
 "nbformat_minor": 2
}
