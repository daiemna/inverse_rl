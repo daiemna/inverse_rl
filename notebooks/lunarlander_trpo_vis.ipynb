{
 "cells": [
  {
   "cell_type": "code",
   "execution_count": null,
   "metadata": {},
   "outputs": [],
   "source": [
    "from rllab.baselines.linear_feature_baseline import LinearFeatureBaseline\n",
    "from rllab.envs.gym_env import GymEnv\n",
    "from rllab.misc import console as rlc\n",
    "from rllab.misc import logger as rllog\n",
    "from rllab.policies.gaussian_mlp_policy import GaussianMLPPolicy\n",
    "from rllab.algos.trpo import TRPO as RLLab_TRPO\n",
    "from gpirl.utils import plot_experiment_data, plot_experiment_data_min_max, do_experiment_iter_data, do_experiment_iter_start\n",
    "from gpirl.utils import genrate_demo_policy_experiment, do_random_policy_iter_data\n",
    "import logging\n",
    "from pylogging import HandlerType, setup_logger\n",
    "from inverse_rl.envs.env_utils import CustomGymEnv\n",
    "from inverse_rl.envs import register_custom_envs\n",
    "import matplotlib.pyplot as plt\n",
    "import numpy as np\n",
    "import os\n",
    "import os.path as osp\n",
    "import pandas as pd\n",
    "\n",
    "from IPython.core.display import display, HTML\n",
    "display(HTML(\"<style>.container { width:100% !important; }</style>\"))\n",
    "\n",
    "log = logging.getLogger(__name__)\n",
    "rllog.print = log.debug\n",
    "rlc.print = log.debug\n",
    "\n",
    "setup_logger(\n",
    "    log_directory='./logs',\n",
    "    file_handler_type=HandlerType.ROTATING_FILE_HANDLER,\n",
    "    allow_console_logging=True,\n",
    "    console_log_level=\"ERROR\",\n",
    "    change_log_level={\n",
    "         'tensorflow': 'error',\n",
    "         'matplotlib': 'error',\n",
    "         'GP': 'error',\n",
    "         'gpirl': 'info',\n",
    "         'gpirl.utils2': 'info',\n",
    "         'gpirl.gym_env': 'info',\n",
    "         __name__ : 'debug',\n",
    "         'gym':'error',\n",
    "         'inverse_rl':'error'\n",
    "    }\n",
    ")\n",
    "register_custom_envs()"
   ]
  },
  {
   "cell_type": "code",
   "execution_count": null,
   "metadata": {},
   "outputs": [],
   "source": [
    "test_gamma=0.9\n",
    "env_name = 'LunarLanderContinuous-v3'\n",
    "env_folder = env_name.replace('-', '_')\n",
    "env = CustomGymEnv(env_name, record_video=False, record_log=False)\n",
    "# trpo_data = np.load('plots/ppo_iteration_data.npy')\n",
    "lim = 1500\n"
   ]
  },
  {
   "cell_type": "code",
   "execution_count": null,
   "metadata": {},
   "outputs": [],
   "source": [
    "rand_policy_path = 'plots/{}_random_policy.npy'.format(env_folder)\n",
    "if not osp.exists(rand_policy_path):\n",
    "    random_policy_data = do_random_policy_iter_data(env, its=300, T=1000, n=5, gamma=test_gamma)\n",
    "    np.save(rand_policy_path, random_policy_data)\n",
    "else:\n",
    "    random_policy_data = np.load(rand_policy_path)"
   ]
  },
  {
   "cell_type": "code",
   "execution_count": null,
   "metadata": {},
   "outputs": [],
   "source": [
    "ll_ppo_exp_data_path = 'plots/{}_rllab_ppo_iteration_data.npy'.format(env_folder)\n",
    "if not osp.exists(ll_ppo_exp_data_path):\n",
    "    rllab_ppo_data = do_experiment_iter_data('../data/LunarLanderContinuous_v3_data_rllab_PPO/exp_1/', \n",
    "                                              env, its=lim, T=1000, gamma=test_gamma, n=5, exp_count=10)\n",
    "    np.save(ll_ppo_exp_data_path, rllab_ppo_data)\n",
    "else:\n",
    "    rllab_ppo_data = np.load(ll_ppo_exp_data_path)"
   ]
  },
  {
   "cell_type": "code",
   "execution_count": null,
   "metadata": {},
   "outputs": [],
   "source": [
    "ll_traj_data = genrate_demo_policy_experiment('../data/lunarlander_demo/',its=300, gamma=test_gamma)"
   ]
  },
  {
   "cell_type": "code",
   "execution_count": null,
   "metadata": {},
   "outputs": [],
   "source": [
    "%matplotlib notebook\n",
    "lim = 300\n",
    "fig = plt.figure()\n",
    "# plot_experiment_data_min_max(trpo_data, 'plots/acrobat_trpo_iter_test.png', 'TRPO', 'iterations', 'avgerage discounted return', lim,0,0, fig=fig)\n",
    "# plot_experiment_data_min_max(rllab_trpo_data, 'plots/cartpole_trpo_iter_test.png', 'rllab-TRPO', 'iterations', 'avgerage discounted return', lim,0,0, fig=fig)\n",
    "plot_experiment_data_min_max(ll_traj_data, 'plots/lunar_lander_human_policy.png', 'Human Policy', 'iterations', 'avgerage discounted return', lim,0,0, fig=fig)\n",
    "plot_experiment_data_min_max(random_policy_data, 'plots/lunar_lander_random_policy.png', 'random', 'iterations', 'avgerage discounted return', lim,0,0, fig=fig)\n",
    "plot_experiment_data_min_max(rllab_ppo_data, 'plots/lunarlander_ppo_vs_human_iter_test.png', 'PPO', 'iterations', 'avgerage discounted return', lim,0,0, fig=fig)"
   ]
  },
  {
   "cell_type": "code",
   "execution_count": null,
   "metadata": {},
   "outputs": [],
   "source": [
    "%matplotlib notebook\n",
    "fig = plt.figure()\n",
    "# rllab_trpo_data = np.load('plots/acrobot_rllab_trpo_iteration_data.npy')\n",
    "plot_experiment_data_min_max(ppo_acrobat_reward_data, 'plots/ppo_rllab_acrobat_reward.png', 'PPO', 'iterations', 'avgerage discounted return', 1000,0,0, fig=fig)\n",
    "plot_experiment_data_min_max(trpo_acrobat_reward_data, 'plots/ppo_vs_trpo_rllab_acrobat_reward.png', 'TRPO', 'iterations', 'avgerage discounted return', 1000,0,0, fig=fig)"
   ]
  },
  {
   "cell_type": "code",
   "execution_count": null,
   "metadata": {},
   "outputs": [],
   "source": []
  }
 ],
 "metadata": {
  "kernelspec": {
   "display_name": "Py36 (GPFlow)",
   "language": "python",
   "name": "anomaly-detection"
  },
  "language_info": {
   "codemirror_mode": {
    "name": "ipython",
    "version": 3
   },
   "file_extension": ".py",
   "mimetype": "text/x-python",
   "name": "python",
   "nbconvert_exporter": "python",
   "pygments_lexer": "ipython3",
   "version": "3.5.2"
  }
 },
 "nbformat": 4,
 "nbformat_minor": 2
}
